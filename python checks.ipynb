{
 "cells": [
  {
   "cell_type": "code",
   "execution_count": 1,
   "metadata": {
    "collapsed": true
   },
   "outputs": [],
   "source": [
    "import numpy as np"
   ]
  },
  {
   "cell_type": "code",
   "execution_count": null,
   "metadata": {
    "collapsed": true
   },
   "outputs": [],
   "source": [
    "'''https://www.reddit.com/r/Python/comments/3639nl/what_is_the_most_beautiful_piece_of_python_code/'''"
   ]
  },
  {
   "cell_type": "code",
   "execution_count": 5,
   "metadata": {},
   "outputs": [
    {
     "data": {
      "text/plain": [
       "1"
      ]
     },
     "execution_count": 5,
     "metadata": {},
     "output_type": "execute_result"
    }
   ],
   "source": [
    "strin = 'vijay'\n",
    "strin.find('ija')\n",
    "##Press Shift+Tab to know about the functions\n",
    "strin.split()"
   ]
  },
  {
   "cell_type": "markdown",
   "metadata": {},
   "source": [
    "'''See for beautiful Notebooks for Python concepts'''\n",
    "1. http://nbviewer.jupyter.org/github/jrjohansson/scientific-python-lectures/tree/master/   --- part of lecture\n"
   ]
  },
  {
   "cell_type": "code",
   "execution_count": 12,
   "metadata": {
    "collapsed": true
   },
   "outputs": [],
   "source": [
    "def reverseWords( A):\n",
    "    if not A: return ''\n",
    "    split = A.split(' ')\n",
    "    split = split[::-1]\n",
    "    return ' '.join(split)"
   ]
  },
  {
   "cell_type": "code",
   "execution_count": 15,
   "metadata": {},
   "outputs": [
    {
     "data": {
      "text/plain": [
       "'is name my'"
      ]
     },
     "execution_count": 15,
     "metadata": {},
     "output_type": "execute_result"
    }
   ],
   "source": [
    "a = ['my','name','is']\n",
    "b = 'my name is'\n",
    "reverseWords(b)"
   ]
  },
  {
   "cell_type": "code",
   "execution_count": 8,
   "metadata": {},
   "outputs": [
    {
     "data": {
      "text/plain": [
       "'this-is-a-sentence'"
      ]
     },
     "execution_count": 8,
     "metadata": {},
     "output_type": "execute_result"
    }
   ],
   "source": [
    "sentence = ['this','is','a','sentence']\n",
    "'-'.join(sentence) ##JOIN "
   ]
  },
  {
   "cell_type": "code",
   "execution_count": 14,
   "metadata": {},
   "outputs": [
    {
     "data": {
      "text/plain": [
       "'\"this\", \"is\", \"a\", \"sentence\"'"
      ]
     },
     "execution_count": 14,
     "metadata": {},
     "output_type": "execute_result"
    }
   ],
   "source": [
    "\n",
    "', '.join(['\"%s\"' % w for w in sentence])"
   ]
  },
  {
   "cell_type": "code",
   "execution_count": 35,
   "metadata": {
    "collapsed": true
   },
   "outputs": [
    {
     "name": "stdout",
     "output_type": "stream",
     "text": [
      "1\n",
      "2\n",
      "3\n",
      "4\n",
      "7\n",
      "6\n",
      "7\n",
      "8\n",
      "9\n",
      "1\n",
      "2\n",
      "3\n",
      "4\n",
      "5\n",
      "8\n",
      "9\n",
      "10\n"
     ]
    }
   ],
   "source": [
    "'''A for loop assigns a variable (in this case i) to the next element in the list/iterable at the start of each iteration. \n",
    "    This means that no matter what you do inside the loop, i will become the next element.\n",
    "    The while loop has no such restriction.Thats why the weird behaviour'''\n",
    "for i in range(1,10):\n",
    "    if(i ==5):\n",
    "        i=7\n",
    "    print(i)\n",
    "j = 0\n",
    "while(j <10 ):\n",
    "    if( j == 5):\n",
    "        j =7\n",
    "    j+=1\n",
    "    print(j)"
   ]
  },
  {
   "cell_type": "code",
   "execution_count": 54,
   "metadata": {},
   "outputs": [
    {
     "name": "stdout",
     "output_type": "stream",
     "text": [
      "10\n",
      "9\n",
      "8\n",
      "7\n",
      "6\n",
      "5\n",
      "4\n",
      "3\n",
      "2\n"
     ]
    }
   ],
   "source": [
    "#retu0rn None in python to return nothing\n",
    "'''Member functions of a class are called as a member function on the instance, self'''\n",
    "for g in range(10,1,-1): ##reverse loop python\n",
    "    print(g)"
   ]
  },
  {
   "cell_type": "code",
   "execution_count": 59,
   "metadata": {},
   "outputs": [
    {
     "data": {
      "text/plain": [
       "2"
      ]
     },
     "execution_count": 59,
     "metadata": {},
     "output_type": "execute_result"
    }
   ],
   "source": [
    "def solve( A):\n",
    "    if not A: return count\n",
    "    if ispalin(A): return 0\n",
    "\n",
    "    for i in range(1,len(A)):\n",
    "        if ispalin(A[:-i]): return i\n",
    "\n",
    "    return len(A)-1\n",
    "\n",
    "\n",
    "def ispalin(string):\n",
    "    if not string: return True\n",
    "    if string == string[::-1]:\n",
    "        return True\n",
    "    else:\n",
    "        return False\n",
    "solve(\"aaabc\")"
   ]
  },
  {
   "cell_type": "code",
   "execution_count": 18,
   "metadata": {},
   "outputs": [],
   "source": [
    "'''https://stackoverflow.com/questions/12683749/given-an-array-a1b2c3d4-convert-to-abcd1234'''\n",
    "a = [1,'a',2,'b',3,'c',4,'d']\n",
    "str(a)\n",
    "# for i in a:\n",
    "str1 = ''.join(str(c) for c in a)\n",
    "  \n",
    "# ','.join(a)"
   ]
  },
  {
   "cell_type": "code",
   "execution_count": 19,
   "metadata": {},
   "outputs": [
    {
     "data": {
      "text/plain": [
       "['1', '2', '3', '4', 'a', 'b', 'c', 'd']"
      ]
     },
     "execution_count": 19,
     "metadata": {},
     "output_type": "execute_result"
    }
   ],
   "source": [
    "'''pythonic --- '''\n",
    "list_chars_a = list(str1)\n",
    "list_chars_a = list_chars_a[0:len(list_chars_a):2] + list_chars_a[1:len(list_chars_a):2]\n",
    "list_chars_a"
   ]
  },
  {
   "cell_type": "code",
   "execution_count": 21,
   "metadata": {},
   "outputs": [
    {
     "data": {
      "text/plain": [
       "array([2, 3, 4])"
      ]
     },
     "execution_count": 21,
     "metadata": {},
     "output_type": "execute_result"
    }
   ],
   "source": [
    "'''indices of the array if it would be sorted'''\n",
    "arr = [3,2,4]\n",
    "np.argsort(arr)\n",
    "np.sort(arr)"
   ]
  },
  {
   "cell_type": "code",
   "execution_count": 37,
   "metadata": {},
   "outputs": [
    {
     "name": "stdout",
     "output_type": "stream",
     "text": [
      "({}, 'xx')\n",
      "{1: 2, 2: 1, 3: 2, 4: 2, 6: 1, 8: 1}\n"
     ]
    }
   ],
   "source": [
    "def majorityElement( nums):   ##SORTING wala method for this also  --M3\n",
    "        \"\"\"\n",
    "        :type nums: List[int]\n",
    "        :rtype: int\n",
    "        \"\"\"\n",
    "        count = {}\n",
    "        print(count,'xx')\n",
    "        for ele in nums:\n",
    "#             if not ele in count:   '''in is the intended way to test for the existence of a key in a dict.'''\n",
    "#                 count[ele] = 1\n",
    "            if count.get(ele) is None:    ##ANOTHER way  - METHOD 2\n",
    "                count[ele] = 1\n",
    "            else:\n",
    "                count[ele] = count[ele]+1\n",
    "        print(count)\n",
    "\n",
    "nums = [1,3,4,2,6,1,3,4,8]\n",
    "majorityElement(nums)\n",
    "##can use Default dict also\n",
    "\n",
    "##"
   ]
  },
  {
   "cell_type": "code",
   "execution_count": 47,
   "metadata": {},
   "outputs": [
    {
     "name": "stdout",
     "output_type": "stream",
     "text": [
      "[1, 3, 4, 2, 6, 1, 3, 4, 8]\n",
      "[1, 3, 4, 2, 6, 1, 3, 4, 8]\n",
      "[1, 3, 9, 2, 6, 1, 3, 4, 8]\n",
      "[1, 3, 9, 2, 6, 1, 3, 4, 8]\n"
     ]
    }
   ],
   "source": [
    "nums = [1,3,4,2,6,1,3,4,8]\n",
    "nums.count(1)\n",
    "nums2  = nums\n",
    "print(nums)\n",
    "print(nums2)\n",
    "##Changing\n",
    "nums[2] = 9\n",
    "\n",
    "##Both change\n",
    "print(nums)\n",
    "print(nums2)"
   ]
  },
  {
   "cell_type": "code",
   "execution_count": null,
   "metadata": {
    "collapsed": true
   },
   "outputs": [],
   "source": [
    "def copying_with_original_copy_of_list1(list1):\n",
    "    '''This method is considered when we want to modify a list and also keep a copy of the original. '''\n",
    "    list2 = list1[:]\n",
    "    return list2\n",
    "\n",
    "def copying_without_original_copy_of_list1(list1): ##both will change if 1 is changed\n",
    "    list2 = list1\n",
    "    return list2\n",
    "\n"
   ]
  }
 ],
 "metadata": {
  "kernelspec": {
   "display_name": "Python 2",
   "language": "python",
   "name": "python2"
  },
  "language_info": {
   "codemirror_mode": {
    "name": "ipython",
    "version": 2
   },
   "file_extension": ".py",
   "mimetype": "text/x-python",
   "name": "python",
   "nbconvert_exporter": "python",
   "pygments_lexer": "ipython2",
   "version": "2.7.14"
  }
 },
 "nbformat": 4,
 "nbformat_minor": 2
}
