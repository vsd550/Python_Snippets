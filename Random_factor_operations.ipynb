{
 "cells": [
  {
   "cell_type": "code",
   "execution_count": 1,
   "metadata": {
    "collapsed": true
   },
   "outputs": [],
   "source": [
    "import numpy as np\n",
    "import random, decimal\n",
    "from random import randint\n",
    "import operator\n",
    "import time\n",
    "\n",
    "from fractions import Fraction\n"
   ]
  },
  {
   "cell_type": "code",
   "execution_count": 2,
   "metadata": {
    "collapsed": true
   },
   "outputs": [],
   "source": [
    "def randomCalc(low,high):\n",
    "    ops = {'+':operator.add,\n",
    "           '-':operator.sub,\n",
    "           '*':operator.mul,\n",
    "           '/':operator.truediv}\n",
    "    \n",
    "    frac1 = Fraction(randint(low,high),randint(low,high))\n",
    "    frac2 = Fraction(randint(low,high),randint(low,high))\n",
    "    op = random.choice(list(ops.keys()))\n",
    "    # print(op)\n",
    "    answer = ops.get(op)(frac1,frac2)\n",
    "    print('What is {} {} {}?\\n'.format(frac1, op, frac2))\n",
    "\n",
    "#     print(answer,'answer')\n",
    "#     print(float(answer),'float')\n",
    "    return float(answer)"
   ]
  },
  {
   "cell_type": "code",
   "execution_count": 3,
   "metadata": {
    "collapsed": true
   },
   "outputs": [],
   "source": [
    "def askQuestion(low,high):\n",
    "    float_answer = randomCalc(low,high)\n",
    "    guess = float(input())\n",
    "    print('Answer should lie within',0.98*float_answer,1.02*float_answer)\n",
    "    if guess>=0.98*float_answer and guess<=1.02*float_answer:\n",
    "        return True\n",
    "    else:\n",
    "#         print()\n",
    "        return False"
   ]
  },
  {
   "cell_type": "code",
   "execution_count": 4,
   "metadata": {
    "collapsed": true
   },
   "outputs": [],
   "source": [
    "def askQuestion_round(low,high):\n",
    "    float_answer = randomCalc(low,high)\n",
    "    guess = float(input())\n",
    "#     print(round(float_answer,2),'answer rounded', round(guess,2),'guess')\n",
    "    if round(float_answer,2) == round(guess,2) :\n",
    "        return True\n",
    "    else:\n",
    "        return False"
   ]
  },
  {
   "cell_type": "markdown",
   "metadata": {},
   "source": [
    "# To Do\n",
    "- Add a timer\n",
    "- https://stackoverflow.com/questions/26260950/how-can-i-randomly-choose-a-maths-operator-and-ask-recurring-maths-questions-wit\n",
    "- Only "
   ]
  },
  {
   "cell_type": "code",
   "execution_count": 5,
   "metadata": {
    "collapsed": true
   },
   "outputs": [],
   "source": [
    "def quiz(low,high):\n",
    "    start = time.time()\n",
    "    counter = 0\n",
    "    score = 0\n",
    "    seconds_allowed = 20 #seconds\n",
    "    while((time.time() - start)%60 < seconds_allowed):\n",
    "        print('time remaining',seconds_allowed-(time.time() - start)%60)\n",
    "        counter+=1\n",
    "#         for i in range(5):\n",
    "    #         correct = askQuestion(low,high)\n",
    "        correct = askQuestion_round(low,high)\n",
    "        if correct:\n",
    "            score += 1\n",
    "            print('Correct!\\n')\n",
    "        else:\n",
    "            print('Incorrect!\\n')\n",
    "    return 'Your score was {}/{}'.format(score,counter)\n",
    "\n",
    "#TODO: Gives sufficient time to the last problem, before breaking\n",
    "## i.e. Does not breaks instantly the limit is crossed"
   ]
  },
  {
   "cell_type": "code",
   "execution_count": null,
   "metadata": {
    "collapsed": true
   },
   "outputs": [],
   "source": [
    "def quiz2(low,high):\n",
    "    start = time.time()\n",
    "    counter = 0\n",
    "    score = 0\n",
    "    seconds_allowed = 20 #seconds\n",
    "    while((time.time() - start)%60 < seconds_allowed):\n",
    "        print('time remaining',seconds_allowed-(time.time() - start)%60)\n",
    "#         counter+=1\n",
    "#         for i in range(5):\n",
    "    #         correct = askQuestion(low,high)\n",
    "        correct = askQuestion_round(low,high)\n",
    "        while(!correct):\n",
    "            print('PLEASE try Again')\n",
    "        if correct:\n",
    "            score += 1\n",
    "            print('Correct!\\n')\n",
    "        else:\n",
    "            print('Incorrect!\\n')\n",
    "    return 'You solved {} problems in {} seconds'.format(score,seconds_allowed)\n",
    "\n",
    "#TODO: Gives sufficient time to the last problem, before breaking\n",
    "## i.e. Does not breaks instantly the limit is crossed"
   ]
  },
  {
   "cell_type": "code",
   "execution_count": 7,
   "metadata": {},
   "outputs": [
    {
     "name": "stdout",
     "output_type": "stream",
     "text": [
      "('time remaining', 20.0)\n",
      "What is 3 + 3/5?\n",
      "\n",
      "3.6\n",
      "Correct!\n",
      "\n",
      "('time remaining', 11.21399998664856)\n",
      "What is 7/3 - 4/5?\n",
      "\n",
      "1.2\n",
      "Incorrect!\n",
      "\n"
     ]
    },
    {
     "data": {
      "text/plain": [
       "'Your score was 1/2'"
      ]
     },
     "execution_count": 7,
     "metadata": {},
     "output_type": "execute_result"
    }
   ],
   "source": [
    "low = 1\n",
    "high = 10\n",
    "quiz(low,high) "
   ]
  }
 ],
 "metadata": {
  "kernelspec": {
   "display_name": "Python 2",
   "language": "python",
   "name": "python2"
  },
  "language_info": {
   "codemirror_mode": {
    "name": "ipython",
    "version": 2
   },
   "file_extension": ".py",
   "mimetype": "text/x-python",
   "name": "python",
   "nbconvert_exporter": "python",
   "pygments_lexer": "ipython2",
   "version": "2.7.14"
  }
 },
 "nbformat": 4,
 "nbformat_minor": 2
}
